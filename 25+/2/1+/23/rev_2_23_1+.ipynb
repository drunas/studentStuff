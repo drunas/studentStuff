{
 "cells": [
  {
   "cell_type": "markdown",
   "id": "df82effa",
   "metadata": {},
   "source": [
    "# **23 , KM1+**"
   ]
  },
  {
   "cell_type": "markdown",
   "id": "c32f3c6d",
   "metadata": {},
   "source": [
    "## LykoshevAP_LykoshevAP_LykoshevTP\tWed, 26 Mar 2025 21:55:41"
   ]
  },
  {
   "cell_type": "markdown",
   "id": "5961e64b",
   "metadata": {},
   "source": [
    "1. "
   ]
  },
  {
   "cell_type": "markdown",
   "id": "eccd33c7",
   "metadata": {},
   "source": [
    "## ShtyrovDO_ShtyrovDO_PetuninDA\tThu, 13 Mar 2025 23:40:45"
   ]
  },
  {
   "cell_type": "markdown",
   "id": "2cc2d015",
   "metadata": {},
   "source": [
    "1. Никак не обсуждено отрицательное сопротивление для кремния: оно \"согласуется с теорией\" ?\n",
    "2. Нет нумерации рисунков и страниц\n",
    "3. Обратные ветви ВАХ: нет отрицательных значений напряжения и тока\n",
    "4. Обратные ветви ВАХ: обратные токи больше, чем прямые; скорее всего, не учтено измерительное сопротивление 1 кОм\n",
    "5. Зачем Амперы?? используйте мА\n",
    "6. Картинки вразнобой: нет сравнения ветвей ВАХ для разных материалов в **одной** системе координат\n",
    "7. Картинки вразнобой: нет сравнения экспериментальных и расчётных зависимостей в **одной** системе координат\n",
    "8. Видна подпись y1 : бессмысленно\n",
    "9. На предпоследней странице видно меня из программы\n",
    "10. Распечатке из маткада место в приложении; в основном тексте отчёта должны быть лаконично выраженные результаты работы"
   ]
  },
  {
   "cell_type": "code",
   "execution_count": null,
   "id": "f19f746b",
   "metadata": {},
   "outputs": [],
   "source": [
    "import os \n",
    "cmd = 'jupyter nbconvert --to markdown rev_2_23_1+.ipynb '\n",
    "os.system(cmd)"
   ]
  },
  {
   "cell_type": "code",
   "execution_count": 5,
   "id": "6b255cb0",
   "metadata": {},
   "outputs": [
    {
     "data": {
      "text/plain": [
       "'nt'"
      ]
     },
     "execution_count": 5,
     "metadata": {},
     "output_type": "execute_result"
    }
   ],
   "source": [
    "os.name"
   ]
  },
  {
   "cell_type": "code",
   "execution_count": 6,
   "id": "571f7a32",
   "metadata": {},
   "outputs": [
    {
     "data": {
      "text/plain": [
       "0"
      ]
     },
     "execution_count": 6,
     "metadata": {},
     "output_type": "execute_result"
    }
   ],
   "source": [
    "pp=os.getcwd()\n",
    "\n",
    "os.system('start ' + pp)"
   ]
  }
 ],
 "metadata": {
  "kernelspec": {
   "display_name": "Python 3.8.8 64-bit",
   "language": "python",
   "name": "python3"
  },
  "language_info": {
   "codemirror_mode": {
    "name": "ipython",
    "version": 3
   },
   "file_extension": ".py",
   "mimetype": "text/x-python",
   "name": "python",
   "nbconvert_exporter": "python",
   "pygments_lexer": "ipython3",
   "version": "3.8.8"
  },
  "vscode": {
   "interpreter": {
    "hash": "b5619c78dca4841362f7c9b7ccd8a905d5a122be0283867ee4c28c694bacadd5"
   }
  }
 },
 "nbformat": 4,
 "nbformat_minor": 5
}
