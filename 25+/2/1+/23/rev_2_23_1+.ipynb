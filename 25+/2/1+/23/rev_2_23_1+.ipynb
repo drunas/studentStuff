{
 "cells": [
  {
   "cell_type": "markdown",
   "id": "df82effa",
   "metadata": {},
   "source": [
    "# **23 , KM1+**"
   ]
  },
  {
   "cell_type": "markdown",
   "id": "c32f3c6d",
   "metadata": {},
   "source": [
    "## LykoshevAP_LykoshevAP_LykoshevTP\tWed, 26 Mar 2025 21:55:41"
   ]
  },
  {
   "cell_type": "markdown",
   "id": "5961e64b",
   "metadata": {},
   "source": [
    "1. "
   ]
  },
  {
   "cell_type": "markdown",
   "id": "eccd33c7",
   "metadata": {},
   "source": [
    "## ShtyrovDO_ShtyrovDO_PetuninDA\tThu, 13 Mar 2025 23:40:45"
   ]
  },
  {
   "cell_type": "markdown",
   "id": "2cc2d015",
   "metadata": {},
   "source": [
    "1. "
   ]
  },
  {
   "cell_type": "code",
   "execution_count": null,
   "id": "f19f746b",
   "metadata": {},
   "outputs": [],
   "source": [
    "import os \n",
    "cmd = 'jupyter nbconvert --to markdown rev_2_23_1+.ipynb '\n",
    "os.system(cmd)"
   ]
  }
 ],
 "metadata": {},
 "nbformat": 4,
 "nbformat_minor": 5
}
