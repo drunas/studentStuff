{
 "cells": [
  {
   "cell_type": "markdown",
   "id": "544971a9",
   "metadata": {},
   "source": [
    "# **18 , KM1+**"
   ]
  },
  {
   "cell_type": "markdown",
   "id": "a1e35853",
   "metadata": {},
   "source": [
    "## KokunovIA_KokunovIA_LastochkinKE\tMon, 24 Mar 2025 00:19:05"
   ]
  },
  {
   "cell_type": "markdown",
   "id": "97e0aa64",
   "metadata": {},
   "source": [
    "1. "
   ]
  },
  {
   "cell_type": "markdown",
   "id": "b26f753c",
   "metadata": {},
   "source": [
    "## LesinNS_LesinNS\tSun, 23 Mar 2025 16:56:15"
   ]
  },
  {
   "cell_type": "markdown",
   "id": "c73209a5",
   "metadata": {},
   "source": [
    "1. "
   ]
  },
  {
   "cell_type": "markdown",
   "id": "794d9182",
   "metadata": {},
   "source": [
    "# DonevaUD"
   ]
  },
  {
   "cell_type": "markdown",
   "id": "49b63af8",
   "metadata": {},
   "source": [
    "1. Тема письма: неверно\n",
    "2. Правые части заголовков картинок съелись (напр., с.4)\n",
    "3. В целях не было ничего стати**сти**ческого...\n",
    "4. Нет нумерации рисунков\n",
    "5. Логарифм тока не имеет размерность ампер\n",
    "6. Обратные ветви ВАХ: нет отрицательных значений напряжения и тока\n",
    "7. Обратные ветви ВАХ: обратные токи больше, чем прямые; скорее всего, не учтено измерительное сопротивление 1 кОм\n",
    "8. Код из приложения не соответствует ни одному графику\n",
    "9. Картинки вразнобой: напр., ветви для германия на разных страницах\n",
    "10. Картинки вразнобой: нет сравнения ветвей ВАХ для разных материалов в **одной** системе координат\n",
    "11. Картинки вразнобой: нет сравнения экспериментальных и расчётных зависимостей в **одной** системе координат"
   ]
  },
  {
   "cell_type": "code",
   "execution_count": 1,
   "id": "fb6f7f94",
   "metadata": {},
   "outputs": [
    {
     "name": "stderr",
     "output_type": "stream",
     "text": [
      "[NbConvertApp] Converting notebook rev_2_18_1+.ipynb to markdown\n",
      "[NbConvertApp] Writing 1050 bytes to rev_2_18_1+.md\n"
     ]
    },
    {
     "data": {
      "text/plain": [
       "0"
      ]
     },
     "execution_count": 1,
     "metadata": {},
     "output_type": "execute_result"
    }
   ],
   "source": [
    "import os \n",
    "cmd = 'jupyter nbconvert --to markdown rev_2_18_1+.ipynb '\n",
    "os.system(cmd)"
   ]
  },
  {
   "cell_type": "code",
   "execution_count": 2,
   "id": "27159395",
   "metadata": {},
   "outputs": [
    {
     "data": {
      "text/plain": [
       "0"
      ]
     },
     "execution_count": 2,
     "metadata": {},
     "output_type": "execute_result"
    }
   ],
   "source": [
    "pp=os.getcwd()\n",
    "\n",
    "os.system('start ' + pp)"
   ]
  }
 ],
 "metadata": {
  "kernelspec": {
   "display_name": "base",
   "language": "python",
   "name": "python3"
  },
  "language_info": {
   "codemirror_mode": {
    "name": "ipython",
    "version": 3
   },
   "file_extension": ".py",
   "mimetype": "text/x-python",
   "name": "python",
   "nbconvert_exporter": "python",
   "pygments_lexer": "ipython3",
   "version": "3.12.9"
  }
 },
 "nbformat": 4,
 "nbformat_minor": 5
}
