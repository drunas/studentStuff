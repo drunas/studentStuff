{
 "cells": [
  {
   "cell_type": "markdown",
   "id": "544971a9",
   "metadata": {},
   "source": [
    "# **18 , KM1+**"
   ]
  },
  {
   "cell_type": "markdown",
   "id": "a1e35853",
   "metadata": {},
   "source": [
    "## KokunovIA_KokunovIA_LastochkinKE\tMon, 24 Mar 2025 00:19:05"
   ]
  },
  {
   "cell_type": "markdown",
   "id": "97e0aa64",
   "metadata": {},
   "source": [
    "1. "
   ]
  },
  {
   "cell_type": "markdown",
   "id": "b26f753c",
   "metadata": {},
   "source": [
    "## LesinNS_LesinNS\tSun, 23 Mar 2025 16:56:15"
   ]
  },
  {
   "cell_type": "markdown",
   "id": "c73209a5",
   "metadata": {},
   "source": [
    "1. "
   ]
  },
  {
   "cell_type": "code",
   "execution_count": null,
   "id": "fb6f7f94",
   "metadata": {},
   "outputs": [],
   "source": [
    "import os \n",
    "cmd = 'jupyter nbconvert --to markdown rev_2_18_1+.ipynb '\n",
    "os.system(cmd)"
   ]
  }
 ],
 "metadata": {},
 "nbformat": 4,
 "nbformat_minor": 5
}
