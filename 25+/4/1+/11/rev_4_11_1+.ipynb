{
 "cells": [
  {
   "cell_type": "markdown",
   "id": "01fa17a3",
   "metadata": {},
   "source": [
    "# **11 , KM1+**"
   ]
  },
  {
   "cell_type": "markdown",
   "id": "def342d2",
   "metadata": {},
   "source": [
    "## ZimenkoDA\tMon, 17 Mar 2025 00:50:19"
   ]
  },
  {
   "cell_type": "markdown",
   "id": "3e9cbc91",
   "metadata": {},
   "source": [
    "1. "
   ]
  },
  {
   "cell_type": "markdown",
   "id": "057283a5",
   "metadata": {},
   "source": [
    "## TimokhinSA\tMon, 17 Mar 2025 00:15:38"
   ]
  },
  {
   "cell_type": "markdown",
   "id": "4177fbcc",
   "metadata": {},
   "source": [
    "1. "
   ]
  },
  {
   "cell_type": "markdown",
   "id": "f9778be3",
   "metadata": {},
   "source": [
    "## AmarantidiMM\tMon, 17 Mar 2025 00:08:12"
   ]
  },
  {
   "cell_type": "markdown",
   "id": "1227511c",
   "metadata": {},
   "source": [
    "1. "
   ]
  },
  {
   "cell_type": "markdown",
   "id": "568438c3",
   "metadata": {},
   "source": [
    "## AvdiushkinGA\tSun, 16 Mar 2025 23:50:20"
   ]
  },
  {
   "cell_type": "markdown",
   "id": "502974fa",
   "metadata": {},
   "source": [
    "1. задание не выполнено: фотографии вместо .csv файлов : провокация?"
   ]
  },
  {
   "cell_type": "markdown",
   "id": "1e78f0d2",
   "metadata": {},
   "source": [
    "## VyskilSM\tSun, 16 Mar 2025 23:48:07"
   ]
  },
  {
   "cell_type": "markdown",
   "id": "aeae03a2",
   "metadata": {},
   "source": [
    "1. откуда взяты ожидаемые осциллограммы п.5.4 (см. Приложение)?\n",
    "2. переходные процессы в Приложении ошибочны: нет перехода к случаю $\\varphi<0$ \n",
    "3. переходные процессы в Приложении ошибочны: разные начальные производные на рис5\n",
    "4. выводы: в теории $f_{ГУН} (E_{упр})$ **выбрана** линейной\n",
    "5. почему  $K_{ФД}$ не рассчитана по характеристике?\n",
    "6. рассчитанные переходные процессы построены отдельно от экспериментальных: сравнить невозможно \n",
    "7. рассчитанные переходные процессы: опять-таки разные начальные производные\n",
    "8. рис4 не надо писать **тау**  "
   ]
  },
  {
   "cell_type": "markdown",
   "id": "25eedc74",
   "metadata": {},
   "source": [
    "## BoykoVS\tSun, 09 Mar 2025 23:57:49"
   ]
  },
  {
   "cell_type": "markdown",
   "id": "1a2741e9",
   "metadata": {},
   "source": [
    "1. почему  $K_{ФД}$ не рассчитана по характеристике?\n",
    "2. переходн**ы**й процесс\n",
    "3. зачем столько лишних графиков? например, рис9 уже содержит информацию из рис8 (поэтому рис8 избыточен)\n",
    "4. добросовестность: переработана домашняя подготовка\n",
    "5. нет формул и/или кода, описывающих построение переходных процессов (для сранения с экспериментом): проверить правильность невозможн "
   ]
  },
  {
   "cell_type": "code",
   "execution_count": 1,
   "id": "ca855b98",
   "metadata": {},
   "outputs": [
    {
     "data": {
      "text/plain": [
       "1"
      ]
     },
     "execution_count": 1,
     "metadata": {},
     "output_type": "execute_result"
    }
   ],
   "source": [
    "import os \n",
    "cmd = 'jupyter nbconvert --to markdown rev_4_11_1+.ipynb '\n",
    "os.system(cmd)"
   ]
  }
 ],
 "metadata": {
  "kernelspec": {
   "display_name": "Python 3.8.8 64-bit",
   "language": "python",
   "name": "python3"
  },
  "language_info": {
   "codemirror_mode": {
    "name": "ipython",
    "version": 3
   },
   "file_extension": ".py",
   "mimetype": "text/x-python",
   "name": "python",
   "nbconvert_exporter": "python",
   "pygments_lexer": "ipython3",
   "version": "3.8.8"
  },
  "vscode": {
   "interpreter": {
    "hash": "b5619c78dca4841362f7c9b7ccd8a905d5a122be0283867ee4c28c694bacadd5"
   }
  }
 },
 "nbformat": 4,
 "nbformat_minor": 5
}
