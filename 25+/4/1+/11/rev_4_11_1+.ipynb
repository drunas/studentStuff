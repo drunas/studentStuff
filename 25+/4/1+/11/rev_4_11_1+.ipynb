{
 "cells": [
  {
   "cell_type": "markdown",
   "id": "01fa17a3",
   "metadata": {},
   "source": [
    "# **11 , KM1+**"
   ]
  },
  {
   "cell_type": "markdown",
   "id": "def342d2",
   "metadata": {},
   "source": [
    "## ZimenkoDA\tMon, 17 Mar 2025 00:50:19"
   ]
  },
  {
   "cell_type": "markdown",
   "id": "3e9cbc91",
   "metadata": {},
   "source": [
    "1. "
   ]
  },
  {
   "cell_type": "markdown",
   "id": "057283a5",
   "metadata": {},
   "source": [
    "## TimokhinSA\tMon, 17 Mar 2025 00:15:38"
   ]
  },
  {
   "cell_type": "markdown",
   "id": "4177fbcc",
   "metadata": {},
   "source": [
    "1. "
   ]
  },
  {
   "cell_type": "markdown",
   "id": "f9778be3",
   "metadata": {},
   "source": [
    "## AmarantidiMM\tMon, 17 Mar 2025 00:08:12"
   ]
  },
  {
   "cell_type": "markdown",
   "id": "1227511c",
   "metadata": {},
   "source": [
    "1. "
   ]
  },
  {
   "cell_type": "markdown",
   "id": "568438c3",
   "metadata": {},
   "source": [
    "## AvdiushkinGA\tSun, 16 Mar 2025 23:50:20"
   ]
  },
  {
   "cell_type": "markdown",
   "id": "502974fa",
   "metadata": {},
   "source": [
    "1. "
   ]
  },
  {
   "cell_type": "markdown",
   "id": "1e78f0d2",
   "metadata": {},
   "source": [
    "## VyskilSM\tSun, 16 Mar 2025 23:48:07"
   ]
  },
  {
   "cell_type": "markdown",
   "id": "aeae03a2",
   "metadata": {},
   "source": [
    "1. "
   ]
  },
  {
   "cell_type": "markdown",
   "id": "25eedc74",
   "metadata": {},
   "source": [
    "## BoykoVS\tSun, 09 Mar 2025 23:57:49"
   ]
  },
  {
   "cell_type": "markdown",
   "id": "1a2741e9",
   "metadata": {},
   "source": [
    "1. "
   ]
  },
  {
   "cell_type": "code",
   "execution_count": null,
   "id": "ca855b98",
   "metadata": {},
   "outputs": [],
   "source": [
    "import os \n",
    "cmd = 'jupyter nbconvert --to markdown rev_4_11_1+.ipynb '\n",
    "os.system(cmd)"
   ]
  }
 ],
 "metadata": {},
 "nbformat": 4,
 "nbformat_minor": 5
}
