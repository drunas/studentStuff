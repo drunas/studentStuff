{
 "cells": [
  {
   "cell_type": "markdown",
   "id": "dc379dc2",
   "metadata": {},
   "source": [
    "# **18 , KM1+**"
   ]
  },
  {
   "cell_type": "markdown",
   "id": "439e3c49",
   "metadata": {},
   "source": [
    "## MalinovskyKA\tSun, 16 Mar 2025 21:20:31"
   ]
  },
  {
   "cell_type": "markdown",
   "id": "ffadd237",
   "metadata": {},
   "source": [
    "1. "
   ]
  },
  {
   "cell_type": "markdown",
   "id": "03a2d9c9",
   "metadata": {},
   "source": [
    "## RezepovDS\tSun, 16 Mar 2025 20:55:10"
   ]
  },
  {
   "cell_type": "markdown",
   "id": "bd7464bf",
   "metadata": {},
   "source": [
    "1. "
   ]
  },
  {
   "cell_type": "markdown",
   "id": "d88a0486",
   "metadata": {},
   "source": [
    "## YushinVA\tSun, 16 Mar 2025 19:38:06"
   ]
  },
  {
   "cell_type": "markdown",
   "id": "58da9715",
   "metadata": {},
   "source": [
    "1. "
   ]
  },
  {
   "cell_type": "code",
   "execution_count": null,
   "id": "472f490b",
   "metadata": {},
   "outputs": [],
   "source": [
    "import os \n",
    "cmd = 'jupyter nbconvert --to markdown rev_4_18_1+.ipynb '\n",
    "os.system(cmd)"
   ]
  }
 ],
 "metadata": {},
 "nbformat": 4,
 "nbformat_minor": 5
}
