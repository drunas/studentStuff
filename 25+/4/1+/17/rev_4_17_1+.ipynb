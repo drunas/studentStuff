{
 "cells": [
  {
   "cell_type": "markdown",
   "id": "38b6623e",
   "metadata": {},
   "source": [
    "# **17 , KM1+**"
   ]
  },
  {
   "cell_type": "markdown",
   "id": "51b9b5b8",
   "metadata": {},
   "source": [
    "## DugushkinAS_GotmanNR\tMon, 17 Mar 2025 05:22:57"
   ]
  },
  {
   "cell_type": "markdown",
   "id": "ff2265e7",
   "metadata": {},
   "source": [
    "1. "
   ]
  },
  {
   "cell_type": "markdown",
   "id": "d4eccd68",
   "metadata": {},
   "source": [
    "## GorbunovaAN_GorbunovaAN_DyachkovaAS\tMon, 17 Mar 2025 00:21:14"
   ]
  },
  {
   "cell_type": "markdown",
   "id": "ab8612ec",
   "metadata": {},
   "source": [
    "1. "
   ]
  },
  {
   "cell_type": "markdown",
   "id": "bc6ea8b9",
   "metadata": {},
   "source": [
    "## KolesnikNA_KolesnikNA_TulinGN\tMon, 17 Mar 2025 00:07:40"
   ]
  },
  {
   "cell_type": "markdown",
   "id": "c83acb1a",
   "metadata": {},
   "source": [
    "1. "
   ]
  },
  {
   "cell_type": "code",
   "execution_count": null,
   "id": "1b657fee",
   "metadata": {},
   "outputs": [],
   "source": [
    "import os \n",
    "cmd = 'jupyter nbconvert --to markdown rev_4_17_1+.ipynb '\n",
    "os.system(cmd)"
   ]
  }
 ],
 "metadata": {},
 "nbformat": 4,
 "nbformat_minor": 5
}
