{
 "cells": [
  {
   "cell_type": "markdown",
   "id": "5ea0ab85",
   "metadata": {},
   "source": [
    "# **13 , KM1+**"
   ]
  },
  {
   "cell_type": "markdown",
   "id": "fab0a7c3",
   "metadata": {},
   "source": [
    "## PopovAYur_MatveevMD_PopovAYur_FrolovAnAn\tSun, 23 Mar 2025 19:39:53"
   ]
  },
  {
   "cell_type": "markdown",
   "id": "35e8255a",
   "metadata": {},
   "source": [
    "1. "
   ]
  },
  {
   "cell_type": "code",
   "execution_count": null,
   "id": "6d3d9f58",
   "metadata": {},
   "outputs": [],
   "source": [
    "import os \n",
    " cmd =jupyter nbconvert --to markdown rev_4_13_1+.ipynb\n",
    "os.system(cmd)"
   ]
  },
  {
   "cell_type": "code",
   "execution_count": null,
   "id": "d4bcb4b1",
   "metadata": {},
   "outputs": [],
   "source": [
    "import os \n",
    " cmd =jupyter nbconvert --to markdown rev_4_13_1+.ipynb\n",
    "os.system(cmd)"
   ]
  }
 ],
 "metadata": {},
 "nbformat": 4,
 "nbformat_minor": 5
}
