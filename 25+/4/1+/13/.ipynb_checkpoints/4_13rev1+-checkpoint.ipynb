{
 "cells": [
  {
   "cell_type": "markdown",
   "id": "71fb685a",
   "metadata": {},
   "source": [
    "# **13 , KM1+**"
   ]
  },
  {
   "cell_type": "markdown",
   "id": "9a1f9977",
   "metadata": {},
   "source": [
    "## PopovAYur_MatveevMD_PopovAYur_FrolovAnAn\tSun, 23 Mar 2025 19:39:53"
   ]
  },
  {
   "cell_type": "markdown",
   "id": "09503f40",
   "metadata": {},
   "source": [
    "1. "
   ]
  },
  {
   "cell_type": "code",
   "execution_count": null,
   "id": "2363b50a",
   "metadata": {},
   "outputs": [],
   "source": [
    "jupyter nbconvert --to markdown 4_13rev1+.ipynb"
   ]
  }
 ],
 "metadata": {},
 "nbformat": 4,
 "nbformat_minor": 5
}
