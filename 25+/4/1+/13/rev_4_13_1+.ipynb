{
 "cells": [
  {
   "cell_type": "markdown",
   "id": "916efac6",
   "metadata": {},
   "source": [
    "# **13 , KM1+**"
   ]
  },
  {
   "cell_type": "markdown",
   "id": "844f0f07",
   "metadata": {},
   "source": [
    "## PopovAYur_MatveevMD_PopovAYur_FrolovAnAn\tSun, 23 Mar 2025 19:39:53"
   ]
  },
  {
   "cell_type": "markdown",
   "id": "f47fe999",
   "metadata": {},
   "source": [
    "1. В начале отчёта приведены экспериментальные данные (их нужно отправить  в приложение) вместо результатов их обработки \n",
    "2. Хар-ка ГУН: правильно сказано, что участок *б* вызван отсутствием синхронизма, только зачем его приводить ? Он ничего не говорит о характеристике\n",
    "3. Хар-ка ГУН: по три МГц в клетке; неудобно считывать значения\n",
    "4. Почему  $K_{ФД}$ не рассчитана по характеристике?\n",
    "5. Хар-ка ФД построена неправильно: макс. значение напряжения должно быть больше 4 В, диапазон $\\varphi$ должно покрывать значения от $-\\pi$ до $\\pi$  \n",
    "6. Начиная с рис.4 подпись по оси y  просто \"напряжение\": известны ли подробности?\n",
    "7. Полоса захвата: не объяснён расчёт; не приведены значения, с которыми нужно сравнивать эксперимент\n",
    "8. Переходный процесс по частоте: приведены осциллограммы для множества переходных процессов вместо одного, который длится несколько мкс\n",
    "9. Переходный процесс по фазе:  много лишнего времени $t$ , размерность времени поставлена по инерции (мс вместо мкс)\n",
    "10. Нет расчётных зависимостей для переходных процессов: почему?"
   ]
  },
  {
   "cell_type": "code",
   "execution_count": 1,
   "id": "f069aa68",
   "metadata": {},
   "outputs": [
    {
     "name": "stderr",
     "output_type": "stream",
     "text": [
      "[NbConvertApp] Converting notebook rev_4_13_1+.ipynb to markdown\n",
      "[NbConvertApp] Writing 1304 bytes to rev_4_13_1+.md\n"
     ]
    },
    {
     "data": {
      "text/plain": [
       "0"
      ]
     },
     "execution_count": 1,
     "metadata": {},
     "output_type": "execute_result"
    }
   ],
   "source": [
    "import os \n",
    "cmd = 'jupyter nbconvert --to markdown rev_4_13_1+.ipynb '\n",
    "os.system(cmd)"
   ]
  },
  {
   "cell_type": "code",
   "execution_count": 1,
   "id": "9e7a27ca",
   "metadata": {},
   "outputs": [
    {
     "data": {
      "text/plain": [
       "0"
      ]
     },
     "execution_count": 1,
     "metadata": {},
     "output_type": "execute_result"
    }
   ],
   "source": [
    "pp=os.getcwd()\n",
    "\n",
    "os.system('start ' + pp)\n"
   ]
  }
 ],
 "metadata": {
  "kernelspec": {
   "display_name": "base",
   "language": "python",
   "name": "python3"
  },
  "language_info": {
   "codemirror_mode": {
    "name": "ipython",
    "version": 3
   },
   "file_extension": ".py",
   "mimetype": "text/x-python",
   "name": "python",
   "nbconvert_exporter": "python",
   "pygments_lexer": "ipython3",
   "version": "3.12.9"
  }
 },
 "nbformat": 4,
 "nbformat_minor": 5
}
