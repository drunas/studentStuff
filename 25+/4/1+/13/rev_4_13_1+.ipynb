{
 "cells": [
  {
   "cell_type": "markdown",
   "id": "916efac6",
   "metadata": {},
   "source": [
    "# **13 , KM1+**"
   ]
  },
  {
   "cell_type": "markdown",
   "id": "844f0f07",
   "metadata": {},
   "source": [
    "## PopovAYur_MatveevMD_PopovAYur_FrolovAnAn\tSun, 23 Mar 2025 19:39:53"
   ]
  },
  {
   "cell_type": "markdown",
   "id": "f47fe999",
   "metadata": {},
   "source": [
    "1. "
   ]
  },
  {
   "cell_type": "code",
   "execution_count": null,
   "id": "f069aa68",
   "metadata": {},
   "outputs": [],
   "source": [
    "import os \n",
    "cmd = 'jupyter nbconvert --to markdown rev_4_13_1+.ipynb '\n",
    "os.system(cmd)"
   ]
  }
 ],
 "metadata": {},
 "nbformat": 4,
 "nbformat_minor": 5
}
